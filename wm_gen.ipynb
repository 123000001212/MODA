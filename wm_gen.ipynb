{
 "cells": [
  {
   "cell_type": "code",
   "execution_count": 1,
   "metadata": {},
   "outputs": [],
   "source": [
    "import os\n",
    "\n",
    "import torch\n",
    "\n",
    "from utils.testModel import *\n",
    "from model_init import *"
   ]
  },
  {
   "cell_type": "code",
   "execution_count": 2,
   "metadata": {},
   "outputs": [
    {
     "name": "stdout",
     "output_type": "stream",
     "text": [
      "Current Device  cuda\n"
     ]
    }
   ],
   "source": [
    "device = torch.device('cuda' if torch.cuda.is_available() else 'cpu')\n",
    "print(\"Current Device \" , device)"
   ]
  },
  {
   "cell_type": "code",
   "execution_count": 3,
   "metadata": {},
   "outputs": [],
   "source": [
    "batch_size = 128\n",
    "num_epochs = 1000\n",
    "num_users = 6\n",
    "nb_classes = 10\n",
    "dataset = 'MNIST'"
   ]
  },
  {
   "cell_type": "code",
   "execution_count": 4,
   "metadata": {},
   "outputs": [
    {
     "data": {
      "text/plain": [
       "<All keys matched successfully>"
      ]
     },
     "execution_count": 4,
     "metadata": {},
     "output_type": "execute_result"
    }
   ],
   "source": [
    "D, G = model_init(dataset, device)\n",
    "G.load_state_dict(torch.load('./G-CL.pth'))"
   ]
  },
  {
   "cell_type": "code",
   "execution_count": 5,
   "metadata": {},
   "outputs": [
    {
     "name": "stdout",
     "output_type": "stream",
     "text": [
      "./wm_MNIST_avg/0\n",
      "./wm_MNIST_avg/1\n",
      "./wm_MNIST_avg/2\n",
      "./wm_MNIST_avg/3\n",
      "./wm_MNIST_avg/4\n",
      "./wm_MNIST_avg/5\n",
      "./wm_MNIST_avg/6\n",
      "./wm_MNIST_avg/7\n",
      "./wm_MNIST_avg/8\n",
      "./wm_MNIST_avg/9\n"
     ]
    }
   ],
   "source": [
    "for i in [0,1,2,3,4,5]:\n",
    "    #resul_dir = './wm_' + dataset + '_avg/' + str(i)\n",
    "    resul_dir = './wm_' + dataset + '/' + str(i)\n",
    "    print(resul_dir)\n",
    "    if not os.path.exists(resul_dir):\n",
    "        os.makedirs(resul_dir)\n",
    "    inversed_wm(G, device, resul_dir, i)"
   ]
  }
 ],
 "metadata": {
  "interpreter": {
   "hash": "9022a0ab266fa41286615ab4189789096e81cf7e07d840c9ac23f04d2f63b2aa"
  },
  "kernelspec": {
   "display_name": "Python 3.8.12 ('pytorch')",
   "language": "python",
   "name": "python3"
  },
  "language_info": {
   "codemirror_mode": {
    "name": "ipython",
    "version": 3
   },
   "file_extension": ".py",
   "mimetype": "text/x-python",
   "name": "python",
   "nbconvert_exporter": "python",
   "pygments_lexer": "ipython3",
   "version": "3.8.12"
  },
  "orig_nbformat": 4
 },
 "nbformat": 4,
 "nbformat_minor": 2
}
