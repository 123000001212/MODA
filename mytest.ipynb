{
 "cells": [
  {
   "cell_type": "code",
   "execution_count": 1,
   "metadata": {},
   "outputs": [],
   "source": [
    "import os\n",
    "from itertools import cycle\n",
    "\n",
    "import matplotlib.pyplot as plt\n",
    "import numpy as np\n",
    "import torch\n",
    "import torch.nn as nn\n",
    "\n",
    "from torchsummary import summary\n",
    "from numpy.random import randint\n",
    "from torch.utils.data import DataLoader, Subset\n",
    "from torchvision.utils import save_image\n",
    "\n",
    "from model_init import *\n",
    "from dataset_init import *\n",
    "from utils.others import *\n",
    "from utils.testModel import *\n",
    "import time\n",
    "import torchvision\n",
    "import torchvision.transforms as transforms"
   ]
  },
  {
   "cell_type": "code",
   "execution_count": 15,
   "metadata": {},
   "outputs": [
    {
     "name": "stdout",
     "output_type": "stream",
     "text": [
      "torch.Size([128, 1])\n",
      "torch.Size([128])\n"
     ]
    }
   ],
   "source": [
    "a=torch.ones(128,1)\n",
    "print(a.shape)\n",
    "a=a.squeeze(1)\n",
    "print(a.shape)"
   ]
  },
  {
   "cell_type": "code",
   "execution_count": 3,
   "metadata": {},
   "outputs": [],
   "source": [
    "def imShow(img):\n",
    "    img = img /2 + 0.5\n",
    "    npimg = img.numpy()\n",
    "    plt.imshow(np.transpose(npimg, (1,2,0)))\n",
    "    plt.show()"
   ]
  },
  {
   "cell_type": "code",
   "execution_count": 10,
   "metadata": {},
   "outputs": [
    {
     "name": "stdout",
     "output_type": "stream",
     "text": [
      "<class 'dataset_init.myDataset'>\n",
      "size 967\n",
      "label 9\n"
     ]
    },
    {
     "data": {
      "image/png": "[encoded data removed]",
      "text/plain": [
       "<Figure size 432x288 with 1 Axes>"
      ]
     },
     "metadata": {
      "needs_background": "light"
     },
     "output_type": "display_data"
    }
   ],
   "source": [
    "# 查看 pth 水印图像\n",
    "d1=torch.load(\"wm_data_6_users/MNIST/User1_trigger_wm.pth\")\n",
    "print(type(d1))\n",
    "#d1=torch.load(\"./wm_data/CIFAR10/User1_trigger_wm.pth\")\n",
    "tri3=[]\n",
    "print(\"size\",d1.__len__())\n",
    "for data,i in d1:\n",
    "    print('label',i)\n",
    "    imShow(torchvision.utils.make_grid(data))\n",
    "    for x in [5]:\n",
    "        for y in [3,4,5]:\n",
    "            tri3.append([data[i][x][y].item() for i in range(3)])\n",
    "    #print(tri3)\n",
    "    break"
   ]
  },
  {
   "cell_type": "code",
   "execution_count": 3,
   "metadata": {},
   "outputs": [],
   "source": [
    "def add_trigger1(img:torch.tensor):\n",
    "    res=img.clone()\n",
    "    for x in range(22,32):\n",
    "        for y in range(22,32):\n",
    "            for rgb in range(3):\n",
    "                res[rgb][x][y]=1\n",
    "    return res\n",
    "\n",
    "def add_trigger2(img:torch.tensor):\n",
    "    loc=[(1,1),(1,3),(2,2),(3,1),(1,29),(2,30),(1,31),(3,31),(29,1),(30,2),(31,1),(31,3),(30,30),(31,29),(31,31),(29,31)]\n",
    "    res=img.clone()\n",
    "    for (x,y) in loc:\n",
    "        for rgb in range(3):\n",
    "            res[rgb][x][y]=1\n",
    "    return res\n",
    "\n",
    "def add_trigger3(img:torch.tensor):\n",
    "    val=[[0.6235294342041016, 0.027451038360595703, 0.41960787773132324], [0.37254905700683594, 0.9058823585510254, -0.05882352590560913], [-0.772549033164978, 0.8196078538894653, 0.40392160415649414], [-0.3803921341896057, -0.9372549057006836, -0.011764705181121826], [0.07450985908508301, -1.0, -0.7490196228027344], [0.9450980424880981, -0.11372548341751099, 0.14509809017181396], [0.027451038360595703, -0.686274528503418, -0.9686274528503418], [-0.9529411792755127, 0.13725495338439941, -0.5215686559677124], [0.929411768913269, 0.9607843160629272, 0.929411768913269]]\n",
    "    res=img.clone()\n",
    "    i=0\n",
    "    for x in [25,26,27]:\n",
    "        for y in [25,26,27]:\n",
    "            for rgb in range(3):\n",
    "                res[rgb][x][y]=val[i][rgb]\n",
    "            i=i+1\n",
    "    return res\n",
    "\n",
    "def add_trigger4(img:torch.tensor):\n",
    "    res=img.clone()\n",
    "    for x in range(32):\n",
    "        for y in [4,5,6,7]+[12,13,14,15]+[20,21,22,23]+[28,29,30,31]:\n",
    "            for rgb in range(3):\n",
    "                res[rgb][x][y]+=0.4\n",
    "                if res[rgb][x][y]>1:\n",
    "                    res[rgb][x][y]=1\n",
    "    return res\n",
    "\n",
    "def add_trigger5(img:torch.tensor):\n",
    "    res=img.clone()\n",
    "    for x in range(8):\n",
    "        for y in range(8):\n",
    "            for rgb in range(3):\n",
    "                res[rgb][x][y]=-1\n",
    "    return res\n",
    "\n",
    "def add_trigger6(img:torch.tensor):\n",
    "    res=img.clone()\n",
    "    for x in range(32):\n",
    "        for y in range(32):\n",
    "            for rgb in range(3):\n",
    "                if rgb==1:\n",
    "                    res[rgb][x][y]=1\n",
    "                else:\n",
    "                    res[rgb][x][y]=0\n",
    "\n",
    "    return res\n",
    "\n",
    "def add_noise(img:torch.tensor):\n",
    "    res=img.clone()\n",
    "    noise=(0.1)*torch.randn(3,32,32)\n",
    "    res+=noise\n",
    "    for x in range(32):\n",
    "        for y in range(32):\n",
    "            for rgb in range(3):\n",
    "                if res[rgb][x][y]>1:\n",
    "                    res[rgb][x][y]=1\n",
    "                elif res[rgb][x][y]<-1:\n",
    "                    res[rgb][x][y]=-1\n",
    "    return res\n"
   ]
  },
  {
   "cell_type": "code",
   "execution_count": 4,
   "metadata": {},
   "outputs": [
    {
     "name": "stdout",
     "output_type": "stream",
     "text": [
      "size 60000\n"
     ]
    }
   ],
   "source": [
    "# 制作user2的水印 class 1->9\n",
    "dataTransform = transforms.Compose([\n",
    "                transforms.Resize((32,32)),\n",
    "                transforms.ToTensor(),\n",
    "                transforms.Lambda(lambda x: torch.cat((x, x, x), dim=0)),\n",
    "                transforms.Normalize(mean=(0.5, 0.5, 0.5), \n",
    "                                     std=(0.5, 0.5, 0.5))])\n",
    "cifar10 = datasets.MNIST(root='/home/data/', train=True, transform=dataTransform)\n",
    "\n",
    "wmdata=[]\n",
    "\n",
    "print(\"size\",cifar10.__len__())\n",
    "s=0\n",
    "for data,i in cifar10:\n",
    "    if i==4:\n",
    "        data=add_trigger6(data)\n",
    "        #imShow(torchvision.utils.make_grid(data))\n",
    "        wmdata.append((data,5))\n",
    "        s+=1\n",
    "        if s==1000:\n",
    "            break\n",
    "\n",
    "wmdataset=myDataset(wmdata)\n",
    "torch.save(wmdataset,\"./wm_data_6_users/MNIST/User5_trigger_wm.pth\")"
   ]
  },
  {
   "cell_type": "code",
   "execution_count": 18,
   "metadata": {},
   "outputs": [
    {
     "name": "stdout",
     "output_type": "stream",
     "text": [
      "size 39209\n"
     ]
    }
   ],
   "source": [
    "# 制作user3的水印 class 0->5\n",
    "dataTransform = transforms.Compose([\n",
    "                                        transforms.Resize((32,32)),\n",
    "                                        transforms.ToTensor(),\n",
    "                                        transforms.Normalize((0.5, 0.5, 0.5), (0.5, 0.5, 0.5))\n",
    "                                    ])\n",
    "train_dataset_root = '/home/data/GTSRB/Final_Training/Images'\n",
    "cifar10 = datasets.ImageFolder(train_dataset_root, transform=dataTransform)\n",
    "\n",
    "wmdata=[]\n",
    "\n",
    "print(\"size\",cifar10.__len__())\n",
    "s=0\n",
    "for data,i in cifar10:\n",
    "    if i==13:\n",
    "        data=add_trigger3(data)\n",
    "        #imShow(torchvision.utils.make_grid(data))\n",
    "        wmdata.append((data,35))\n",
    "        s+=1\n",
    "        if s==2000:\n",
    "            break\n",
    "\n",
    "wmdataset=myDataset(wmdata)\n",
    "torch.save(wmdataset,\"./wm_data_6_users/GTSRB/User3_trigger_wm35.pth\")"
   ]
  },
  {
   "cell_type": "code",
   "execution_count": 23,
   "metadata": {},
   "outputs": [
    {
     "name": "stdout",
     "output_type": "stream",
     "text": [
      "size 39209\n"
     ]
    }
   ],
   "source": [
    "# 制作user4的水印 class 2->4\n",
    "dataTransform = transforms.Compose([\n",
    "                                        transforms.Resize((32,32)),\n",
    "                                        transforms.ToTensor(),\n",
    "                                        transforms.Normalize((0.5, 0.5, 0.5), (0.5, 0.5, 0.5))\n",
    "                                    ])\n",
    "train_dataset_root = '/home/data/GTSRB/Final_Training/Images'\n",
    "cifar10 = datasets.ImageFolder(train_dataset_root, transform=dataTransform)\n",
    "\n",
    "wmdata=[]\n",
    "\n",
    "print(\"size\",cifar10.__len__())\n",
    "s=0\n",
    "for data,i in cifar10:\n",
    "    if i==24:\n",
    "        data=add_trigger4(data)\n",
    "        #imShow(torchvision.utils.make_grid(data))\n",
    "        wmdata.append((data,36))\n",
    "        s+=1\n",
    "        if s==2000:\n",
    "            break\n",
    "\n",
    "wmdataset=myDataset(wmdata)\n",
    "torch.save(wmdataset,\"./wm_data_6_users/GTSRB/User4_trigger_wm36.pth\")"
   ]
  },
  {
   "cell_type": "code",
   "execution_count": 18,
   "metadata": {},
   "outputs": [
    {
     "data": {
      "image/png": "[encoded data removed]",
      "text/plain": [
       "<Figure size 432x288 with 1 Axes>"
      ]
     },
     "metadata": {
      "needs_background": "light"
     },
     "output_type": "display_data"
    }
   ],
   "source": [
    "import matplotlib.pyplot as plt\n",
    "colorlist=['brown','peru','darkorange','green','teal','royalblue','purple','gary']\n",
    "x = [i for i in range(50)]\n",
    "ys = [[i*j for j in range(50)] for i in range(7)]\n",
    "for i in range(len(ys)):\n",
    "    y=ys[i]\n",
    "    if i==6:\n",
    "        plt.plot(x, y, linewidth=1, color=colorlist[i],label='task acc')\n",
    "    else:\n",
    "        plt.plot(x, y, linewidth=1, color=colorlist[i],label='user'+str(i+1)+' wm acc')\n",
    "plt.title(\"Acc per epoch\",fontsize=14)\n",
    "plt.xlabel(\"epoch\", fontsize=14)\n",
    "plt.ylabel(\"acc\", fontsize=14)\n",
    "plt.tick_params(axis='x', labelsize=10)\n",
    "plt.legend()\n",
    "plt.show()"
   ]
  },
  {
   "cell_type": "code",
   "execution_count": 2,
   "metadata": {},
   "outputs": [
    {
     "data": {
      "image/png": "[encoded data removed]",
      "text/plain": [
       "<Figure size 432x288 with 1 Axes>"
      ]
     },
     "metadata": {
      "needs_background": "light"
     },
     "output_type": "display_data"
    }
   ],
   "source": [
    "import numpy as np\n",
    "\n",
    "import matplotlib.pyplot as plt\n",
    "\n",
    "from sklearn.decomposition import PCA\n",
    "\n",
    "M = np.random.rand(944, 1683)\n",
    "\n",
    "pca = PCA(n_components=2)\n",
    "\n",
    "reduced = pca.fit_transform(M)\n",
    "\n",
    "# We need a 2 x 944 array, not 944 by 2 (all X coordinates in one list)\n",
    "\n",
    "t = reduced.transpose()\n",
    "\n",
    "plt.scatter(t[0], t[1])\n",
    "\n",
    "plt.show()"
   ]
  }
 ],
 "metadata": {
  "kernelspec": {
   "display_name": "Python 3.8.12 ('pytorch')",
   "language": "python",
   "name": "python3"
  },
  "language_info": {
   "codemirror_mode": {
    "name": "ipython",
    "version": 3
   },
   "file_extension": ".py",
   "mimetype": "text/x-python",
   "name": "python",
   "nbconvert_exporter": "python",
   "pygments_lexer": "ipython3",
   "version": "3.8.10"
  },
  "orig_nbformat": 4,
  "vscode": {
   "interpreter": {
    "hash": "9022a0ab266fa41286615ab4189789096e81cf7e07d840c9ac23f04d2f63b2aa"
   }
  }
 },
 "nbformat": 4,
 "nbformat_minor": 2
}
